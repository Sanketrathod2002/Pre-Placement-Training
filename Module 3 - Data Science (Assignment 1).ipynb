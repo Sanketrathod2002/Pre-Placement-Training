{
 "cells": [
  {
   "cell_type": "code",
   "execution_count": 1,
   "id": "e56eaf50",
   "metadata": {},
   "outputs": [
    {
     "name": "stdout",
     "output_type": "stream",
     "text": [
      "!dlroW ,olleH\n"
     ]
    }
   ],
   "source": [
    "'''\n",
    "1. Write a Python program to reverse a string without using any built-in string reversal functions.\n",
    "'''\n",
    "\n",
    "# Program \n",
    "def reverse_string(input_string):\n",
    "    reversed_string = \"\"\n",
    "    for char in input_string:\n",
    "        reversed_string = char + reversed_string\n",
    "    return reversed_string\n",
    "\n",
    "string = \"Hello, World!\"\n",
    "reversed_string = reverse_string(string)\n",
    "print(reversed_string)\n"
   ]
  },
  {
   "cell_type": "code",
   "execution_count": 2,
   "id": "538ac325",
   "metadata": {},
   "outputs": [
    {
     "name": "stdout",
     "output_type": "stream",
     "text": [
      "The string is a palindrome.\n"
     ]
    }
   ],
   "source": [
    "'''\n",
    "2. Implement a function to check if a given string is a palindrome.\n",
    "'''\n",
    "\n",
    "# Program :-\n",
    "def is_palindrome(input_string):\n",
    "    reversed_string = input_string[::-1]\n",
    "    return input_string == reversed_string\n",
    "\n",
    "string = \"radar\"\n",
    "if is_palindrome(string):\n",
    "    print(\"The string is a palindrome.\")\n",
    "else:\n",
    "    print(\"The string is not a palindrome.\")\n"
   ]
  },
  {
   "cell_type": "code",
   "execution_count": 3,
   "id": "777982f5",
   "metadata": {},
   "outputs": [
    {
     "name": "stdout",
     "output_type": "stream",
     "text": [
      "The largest number is: 9\n"
     ]
    }
   ],
   "source": [
    "'''\n",
    "3. Write a program to find the largest element in a given list.\n",
    "'''\n",
    "\n",
    "# Program :-\n",
    "def find_largest_element(lst):\n",
    "    largest = max(lst)\n",
    "    return largest\n",
    "\n",
    "numbers = [4, 9, 2, 6, 1, 7]\n",
    "largest_number = find_largest_element(numbers)\n",
    "print(\"The largest number is:\", largest_number)\n"
   ]
  },
  {
   "cell_type": "code",
   "execution_count": 4,
   "id": "2bcdf9f6",
   "metadata": {},
   "outputs": [
    {
     "name": "stdout",
     "output_type": "stream",
     "text": [
      "{1: 4, 2: 2, 3: 1, 4: 2, 5: 1}\n"
     ]
    }
   ],
   "source": [
    "'''\n",
    "4. Implement a function to count the occurrence of each element in a list.\n",
    "'''\n",
    "\n",
    "# Program :-\n",
    "def count_occurrences(lst):\n",
    "    counts = {}\n",
    "    for item in lst:\n",
    "        counts[item] = counts.get(item, 0) + 1\n",
    "    return counts\n",
    "\n",
    "numbers = [1, 2, 1, 3, 2, 1, 4, 4, 1, 5]\n",
    "occurrence_counts = count_occurrences(numbers)\n",
    "print(occurrence_counts)\n"
   ]
  },
  {
   "cell_type": "code",
   "execution_count": 5,
   "id": "bf39cd0f",
   "metadata": {},
   "outputs": [
    {
     "name": "stdout",
     "output_type": "stream",
     "text": [
      "The second largest number is: 8\n"
     ]
    }
   ],
   "source": [
    "'''\n",
    "5. Write a Python program to find the second largest number in a list.\n",
    "'''\n",
    "\n",
    "# Program :-\n",
    "def find_second_largest(lst):\n",
    "    unique_numbers = list(set(lst))\n",
    "    if len(unique_numbers) < 2:\n",
    "        return None\n",
    "    largest = max(unique_numbers)\n",
    "    unique_numbers.remove(largest)\n",
    "    second_largest = max(unique_numbers)\n",
    "    return second_largest\n",
    "\n",
    "numbers = [5, 2, 8, 9, 1, 3, 7]\n",
    "second_largest_number = find_second_largest(numbers)\n",
    "print(\"The second largest number is:\", second_largest_number)\n"
   ]
  },
  {
   "cell_type": "code",
   "execution_count": 6,
   "id": "af5e88ec",
   "metadata": {},
   "outputs": [
    {
     "name": "stdout",
     "output_type": "stream",
     "text": [
      "[1, 2, 3, 4, 5, 6]\n"
     ]
    }
   ],
   "source": [
    "'''\n",
    "6. Implement a function to remove duplicate elements from a list.\n",
    "'''\n",
    "\n",
    "# Program :-\n",
    "def remove_duplicates(lst):\n",
    "    return list(set(lst))\n",
    "\n",
    "numbers = [1, 2, 3, 3, 4, 4, 5, 6, 6]\n",
    "unique_numbers = remove_duplicates(numbers)\n",
    "print(unique_numbers)\n"
   ]
  },
  {
   "cell_type": "code",
   "execution_count": 7,
   "id": "cfd892c4",
   "metadata": {},
   "outputs": [
    {
     "name": "stdout",
     "output_type": "stream",
     "text": [
      "The factorial of 5 is: 120\n"
     ]
    }
   ],
   "source": [
    "'''\n",
    "7. Write a program to calculate the factorial of a given number.\n",
    "'''\n",
    "\n",
    "# Program :-\n",
    "def factorial(number):\n",
    "    if number == 0 or number == 1:\n",
    "        return 1\n",
    "    else:\n",
    "        fact = 1\n",
    "        for i in range(1, number + 1):\n",
    "            fact *= i\n",
    "        return fact\n",
    "\n",
    "num = 5\n",
    "factorial_result = factorial(num)\n",
    "print(\"The factorial of\", num, \"is:\", factorial_result)\n"
   ]
  },
  {
   "cell_type": "code",
   "execution_count": 8,
   "id": "80ffbdeb",
   "metadata": {},
   "outputs": [
    {
     "name": "stdout",
     "output_type": "stream",
     "text": [
      "17 is a prime number.\n"
     ]
    }
   ],
   "source": [
    "'''\n",
    "8. Implement a function to check if a given number is prime.\n",
    "'''\n",
    "\n",
    "# Program :-\n",
    "def is_prime(number):\n",
    "    if number < 2:\n",
    "        return False\n",
    "    for i in range(2, int(number**0.5) + 1):\n",
    "        if number % i == 0:\n",
    "            return False\n",
    "    return True\n",
    "\n",
    "num = 17\n",
    "if is_prime(num):\n",
    "    print(num, \"is a prime number.\")\n",
    "else:\n",
    "    print(num, \"is not a prime number.\")\n"
   ]
  },
  {
   "cell_type": "code",
   "execution_count": 9,
   "id": "bf2d04a2",
   "metadata": {},
   "outputs": [
    {
     "name": "stdout",
     "output_type": "stream",
     "text": [
      "Sorted list: [1, 2, 3, 5, 7, 8, 9]\n"
     ]
    }
   ],
   "source": [
    "'''\n",
    "9. Write a Python program to sort a list of integers in ascending order.\n",
    "'''\n",
    "\n",
    "# Program :-\n",
    "def sort_list(lst):\n",
    "    return sorted(lst)\n",
    "\n",
    "numbers = [5, 2, 8, 9, 1, 3, 7]\n",
    "sorted_numbers = sort_list(numbers)\n",
    "print(\"Sorted list:\", sorted_numbers)\n"
   ]
  },
  {
   "cell_type": "code",
   "execution_count": 10,
   "id": "e22079ea",
   "metadata": {},
   "outputs": [
    {
     "name": "stdout",
     "output_type": "stream",
     "text": [
      "The sum of the numbers is: 15\n"
     ]
    }
   ],
   "source": [
    "'''\n",
    "10. Implement a function to find the sum of all numbers in a list.\n",
    "'''\n",
    "\n",
    "# Program :-\n",
    "def sum_list(lst):\n",
    "    return sum(lst)\n",
    "\n",
    "numbers = [1, 2, 3, 4, 5]\n",
    "list_sum = sum_list(numbers)\n",
    "print(\"The sum of the numbers is:\", list_sum)\n"
   ]
  },
  {
   "cell_type": "code",
   "execution_count": 16,
   "id": "e17b4e4f",
   "metadata": {},
   "outputs": [
    {
     "name": "stdout",
     "output_type": "stream",
     "text": [
      "Common elements: [4, 5]\n"
     ]
    }
   ],
   "source": [
    "'''\n",
    "11. Write a program to find the common elements between two lists.\n",
    "'''\n",
    "\n",
    "# Program :-\n",
    "def find_common_elements(list1, list2):\n",
    "    common_elements = []\n",
    "    for element in list1:\n",
    "        if element in list2:\n",
    "            common_elements.append(element)\n",
    "    return common_elements\n",
    "\n",
    "list1 = [1, 2, 3, 4, 5]\n",
    "list2 = [4, 5, 6, 7, 8]\n",
    "common_elements = find_common_elements(list1, list2)\n",
    "print(\"Common elements:\", common_elements)\n"
   ]
  },
  {
   "cell_type": "code",
   "execution_count": 17,
   "id": "845146d7",
   "metadata": {},
   "outputs": [
    {
     "name": "stdout",
     "output_type": "stream",
     "text": [
      "The strings are anagrams.\n"
     ]
    }
   ],
   "source": [
    "'''\n",
    "12. Implement a function to check if a given string is an anagram of another string.\n",
    "'''\n",
    "\n",
    "# Program :-\n",
    "def is_anagram(str1, str2):\n",
    "    sorted_str1 = sorted(str1)\n",
    "    sorted_str2 = sorted(str2)\n",
    "    return sorted_str1 == sorted_str2\n",
    "\n",
    "string1 = \"listen\"\n",
    "string2 = \"silent\"\n",
    "if is_anagram(string1, string2):\n",
    "    print(\"The strings are anagrams.\")\n",
    "else:\n",
    "    print(\"The strings are not anagrams.\")\n"
   ]
  },
  {
   "cell_type": "code",
   "execution_count": 18,
   "id": "dd6f8da3",
   "metadata": {},
   "outputs": [
    {
     "name": "stdout",
     "output_type": "stream",
     "text": [
      "Permutations: ['abc', 'acb', 'bac', 'bca', 'cab', 'cba']\n"
     ]
    }
   ],
   "source": [
    "'''\n",
    "13. Write a Python program to generate all permutations of a given string.\n",
    "'''\n",
    "\n",
    "# Program :-\n",
    "import itertools\n",
    "\n",
    "def generate_permutations(input_string):\n",
    "    permutations = list(itertools.permutations(input_string))\n",
    "    result = [''.join(permutation) for permutation in permutations]\n",
    "    return result\n",
    "\n",
    "string = \"abc\"\n",
    "permutations = generate_permutations(string)\n",
    "print(\"Permutations:\", permutations)\n"
   ]
  },
  {
   "cell_type": "code",
   "execution_count": 19,
   "id": "340a9d2a",
   "metadata": {},
   "outputs": [
    {
     "name": "stdout",
     "output_type": "stream",
     "text": [
      "Fibonacci sequence: [0, 1, 1, 2, 3, 5, 8, 13]\n"
     ]
    }
   ],
   "source": [
    "'''\n",
    "14. Implement a function to calculate the Fibonacci sequence up to a given number of terms.\n",
    "'''\n",
    "\n",
    "# Program :-\n",
    "def fibonacci_sequence(n):\n",
    "    sequence = [0, 1]\n",
    "    if n <= 2:\n",
    "        return sequence[:n]\n",
    "    for i in range(2, n):\n",
    "        next_number = sequence[i - 1] + sequence[i - 2]\n",
    "        sequence.append(next_number)\n",
    "    return sequence\n",
    "\n",
    "num_terms = 8\n",
    "fibonacci = fibonacci_sequence(num_terms)\n",
    "print(\"Fibonacci sequence:\", fibonacci)\n"
   ]
  },
  {
   "cell_type": "code",
   "execution_count": 20,
   "id": "1ef77b86",
   "metadata": {},
   "outputs": [
    {
     "name": "stdout",
     "output_type": "stream",
     "text": [
      "Median: 7.0\n"
     ]
    }
   ],
   "source": [
    "'''\n",
    "15. Write a program to find the median of a list of numbers.\n",
    "'''\n",
    "\n",
    "# Program :-\n",
    "def find_median(numbers):\n",
    "    numbers.sort()\n",
    "    n = len(numbers)\n",
    "    if n % 2 == 0:\n",
    "        median = (numbers[n // 2 - 1] + numbers[n // 2]) / 2\n",
    "    else:\n",
    "        median = numbers[n // 2]\n",
    "    return median\n",
    "\n",
    "number_list = [2, 4, 6, 8, 10, 12]\n",
    "median = find_median(number_list)\n",
    "print(\"Median:\", median)\n"
   ]
  },
  {
   "cell_type": "code",
   "execution_count": 28,
   "id": "ad63f2fb",
   "metadata": {},
   "outputs": [
    {
     "name": "stdout",
     "output_type": "stream",
     "text": [
      "The list is sorted in non-decreasing order.\n"
     ]
    }
   ],
   "source": [
    "'''\n",
    "16. Implement a function to check if a given list is sorted in non-decreasing order.\n",
    "'''\n",
    "\n",
    "# Program :-\n",
    "def is_sorted(lst):\n",
    "    return all(lst[i] <= lst[i+1] for i in range(len(lst)-1))\n",
    "\n",
    "numbers = [1, 2, 3, 4, 5]\n",
    "if is_sorted(numbers):\n",
    "    print(\"The list is sorted in non-decreasing order.\")\n",
    "else:\n",
    "    print(\"The list is not sorted in non-decreasing order.\")\n"
   ]
  },
  {
   "cell_type": "code",
   "execution_count": 29,
   "id": "f3775616",
   "metadata": {},
   "outputs": [
    {
     "name": "stdout",
     "output_type": "stream",
     "text": [
      "Intersection: [4, 5]\n"
     ]
    }
   ],
   "source": [
    "'''\n",
    "17. Write a Python program to find the intersection of two lists.\n",
    "'''\n",
    "\n",
    "# Program :-\n",
    "def find_intersection(list1, list2):\n",
    "    intersection = list(set(list1) & set(list2))\n",
    "    return intersection\n",
    "\n",
    "list1 = [1, 2, 3, 4, 5]\n",
    "list2 = [4, 5, 6, 7, 8]\n",
    "intersection = find_intersection(list1, list2)\n",
    "print(\"Intersection:\", intersection)\n"
   ]
  },
  {
   "cell_type": "code",
   "execution_count": 30,
   "id": "7d6e675c",
   "metadata": {},
   "outputs": [
    {
     "name": "stdout",
     "output_type": "stream",
     "text": [
      "Maximum subarray sum: 6\n"
     ]
    }
   ],
   "source": [
    "'''\n",
    "18. Implement a function to find the maximum subarray sum in a given list.\n",
    "'''\n",
    "\n",
    "# Program :-\n",
    "def max_subarray_sum(lst):\n",
    "    max_sum = float('-inf')\n",
    "    current_sum = 0\n",
    "    for num in lst:\n",
    "        current_sum += num\n",
    "        if current_sum > max_sum:\n",
    "            max_sum = current_sum\n",
    "        if current_sum < 0:\n",
    "            current_sum = 0\n",
    "    return max_sum\n",
    "\n",
    "numbers = [-2, 1, -3, 4, -1, 2, 1, -5, 4]\n",
    "max_sum = max_subarray_sum(numbers)\n",
    "print(\"Maximum subarray sum:\", max_sum)\n"
   ]
  },
  {
   "cell_type": "code",
   "execution_count": 31,
   "id": "d8e68ebc",
   "metadata": {},
   "outputs": [
    {
     "name": "stdout",
     "output_type": "stream",
     "text": [
      "String without vowels: Hll, Wrld!\n"
     ]
    }
   ],
   "source": [
    "'''\n",
    "19. Write a program to remove all vowels from a given string.\n",
    "'''\n",
    "\n",
    "# Program :-\n",
    "def remove_vowels(input_string):\n",
    "    vowels = 'aeiouAEIOU'\n",
    "    without_vowels = ''.join(char for char in input_string if char not in vowels)\n",
    "    return without_vowels\n",
    "\n",
    "string = \"Hello, World!\"\n",
    "result = remove_vowels(string)\n",
    "print(\"String without vowels:\", result)\n"
   ]
  },
  {
   "cell_type": "code",
   "execution_count": 33,
   "id": "01c9d103",
   "metadata": {},
   "outputs": [
    {
     "name": "stdout",
     "output_type": "stream",
     "text": [
      "Reversed sentence: you? are how Hello,\n"
     ]
    }
   ],
   "source": [
    "'''\n",
    "20. Implement a function to reverse the order of words in a given sentence.\n",
    "'''\n",
    "\n",
    "# Program :-\n",
    "def reverse_words(sentence):\n",
    "    words = sentence.split()\n",
    "    reversed_words = ' '.join(reversed(words))\n",
    "    return reversed_words\n",
    "\n",
    "sentence = \"Hello, how are you?\"\n",
    "reversed_sentence = reverse_words(sentence)\n",
    "print(\"Reversed sentence:\", reversed_sentence)\n"
   ]
  },
  {
   "cell_type": "code",
   "execution_count": 39,
   "id": "f7586c3a",
   "metadata": {},
   "outputs": [
    {
     "name": "stdout",
     "output_type": "stream",
     "text": [
      "The strings are anagrams.\n"
     ]
    }
   ],
   "source": [
    "'''\n",
    "21. Write a Python program to check if two strings are anagrams of each other.\n",
    "'''\n",
    "\n",
    "# Program :-\n",
    "def are_anagrams(str1, str2):\n",
    "    sorted_str1 = sorted(str1)\n",
    "    sorted_str2 = sorted(str2)\n",
    "    return sorted_str1 == sorted_str2\n",
    "\n",
    "string1 = \"listen\"\n",
    "string2 = \"silent\"\n",
    "if are_anagrams(string1, string2):\n",
    "    print(\"The strings are anagrams.\")\n",
    "else:\n",
    "    print(\"The strings are not anagrams.\")\n"
   ]
  },
  {
   "cell_type": "code",
   "execution_count": 40,
   "id": "047230eb",
   "metadata": {},
   "outputs": [
    {
     "name": "stdout",
     "output_type": "stream",
     "text": [
      "First non-repeating character: c\n"
     ]
    }
   ],
   "source": [
    "'''\n",
    "22. Implement a function to find the first non-repeating character in a string.\n",
    "'''\n",
    "\n",
    "# Program :-\n",
    "def first_non_repeating_character(input_string):\n",
    "    char_count = {}\n",
    "    for char in input_string:\n",
    "        char_count[char] = char_count.get(char, 0) + 1\n",
    "    for char in input_string:\n",
    "        if char_count[char] == 1:\n",
    "            return char\n",
    "    return None\n",
    "\n",
    "string = \"abacabad\"\n",
    "non_repeating_char = first_non_repeating_character(string)\n",
    "if non_repeating_char:\n",
    "    print(\"First non-repeating character:\", non_repeating_char)\n",
    "else:\n",
    "    print(\"No non-repeating character found.\")\n"
   ]
  },
  {
   "cell_type": "code",
   "execution_count": 41,
   "id": "1abbfb58",
   "metadata": {},
   "outputs": [
    {
     "name": "stdout",
     "output_type": "stream",
     "text": [
      "Prime factors of 36 : [2, 2, 3, 3]\n"
     ]
    }
   ],
   "source": [
    "'''\n",
    "23. Write a program to find the prime factors of a given number.\n",
    "'''\n",
    "\n",
    "# Program :-\n",
    "def prime_factors(number):\n",
    "    factors = []\n",
    "    divisor = 2\n",
    "    while divisor <= number:\n",
    "        if number % divisor == 0:\n",
    "            factors.append(divisor)\n",
    "            number //= divisor\n",
    "        else:\n",
    "            divisor += 1\n",
    "    return factors\n",
    "\n",
    "num = 36\n",
    "factors = prime_factors(num)\n",
    "print(\"Prime factors of\", num, \":\", factors)\n"
   ]
  },
  {
   "cell_type": "code",
   "execution_count": 42,
   "id": "da9f40fa",
   "metadata": {},
   "outputs": [
    {
     "name": "stdout",
     "output_type": "stream",
     "text": [
      "16 is a power of two.\n"
     ]
    }
   ],
   "source": [
    "'''\n",
    "24. Implement a function to check if a given number is a power of two.\n",
    "'''\n",
    "\n",
    "# Program :-\n",
    "def is_power_of_two(number):\n",
    "    if number <= 0:\n",
    "        return False\n",
    "    return (number & (number - 1)) == 0\n",
    "\n",
    "num = 16\n",
    "if is_power_of_two(num):\n",
    "    print(num, \"is a power of two.\")\n",
    "else:\n",
    "    print(num, \"is not a power of two.\")\n"
   ]
  },
  {
   "cell_type": "code",
   "execution_count": 43,
   "id": "f669e942",
   "metadata": {},
   "outputs": [
    {
     "name": "stdout",
     "output_type": "stream",
     "text": [
      "Merged list: [1, 2, 3, 4, 5, 6, 7, 8]\n"
     ]
    }
   ],
   "source": [
    "'''\n",
    "25. Write a Python program to merge two sorted lists into a single sorted list.\n",
    "'''\n",
    "\n",
    "# Program :-\n",
    "def merge_sorted_lists(list1, list2):\n",
    "    merged_list = sorted(list1 + list2)\n",
    "    return merged_list\n",
    "\n",
    "list1 = [1, 3, 5, 7]\n",
    "list2 = [2, 4, 6, 8]\n",
    "merged_list = merge_sorted_lists(list1, list2)\n",
    "print(\"Merged list:\", merged_list)\n"
   ]
  },
  {
   "cell_type": "code",
   "execution_count": 48,
   "id": "e948666e",
   "metadata": {},
   "outputs": [
    {
     "name": "stdout",
     "output_type": "stream",
     "text": [
      "Mode(s): [3]\n"
     ]
    }
   ],
   "source": [
    "'''\n",
    "26. Implement a function to find the mode of a list of numbers.\n",
    "'''\n",
    "\n",
    "# Program :-\n",
    "from collections import Counter\n",
    "\n",
    "def find_mode(lst):\n",
    "    count = Counter(lst)\n",
    "    max_count = max(count.values())\n",
    "    modes = [num for num, freq in count.items() if freq == max_count]\n",
    "    return modes\n",
    "\n",
    "numbers = [1, 2, 3, 2, 4, 3, 5, 3]\n",
    "modes = find_mode(numbers)\n",
    "print(\"Mode(s):\", modes)\n"
   ]
  },
  {
   "cell_type": "code",
   "execution_count": 49,
   "id": "725fc729",
   "metadata": {},
   "outputs": [
    {
     "name": "stdout",
     "output_type": "stream",
     "text": [
      "GCD of 48 and 36 : 12\n"
     ]
    }
   ],
   "source": [
    "'''\n",
    "27. Write a program to find the greatest common divisor (GCD) of two numbers.\n",
    "'''\n",
    "\n",
    "# Program :-\n",
    "def find_gcd(num1, num2):\n",
    "    while num2 != 0:\n",
    "        num1, num2 = num2, num1 % num2\n",
    "    return num1\n",
    "\n",
    "a = 48\n",
    "b = 36\n",
    "gcd = find_gcd(a, b)\n",
    "print(\"GCD of\", a, \"and\", b, \":\", gcd)\n"
   ]
  },
  {
   "cell_type": "code",
   "execution_count": 50,
   "id": "edd1fcce",
   "metadata": {},
   "outputs": [
    {
     "name": "stdout",
     "output_type": "stream",
     "text": [
      "Square root of 25 : 5.000000000053722\n"
     ]
    }
   ],
   "source": [
    "'''\n",
    "28. Implement a function to calculate the square root of a given number.\n",
    "'''\n",
    "\n",
    "# Program :-\n",
    "def square_root(number):\n",
    "    if number < 0:\n",
    "        return None\n",
    "    guess = number\n",
    "    while abs(guess * guess - number) > 1e-6:\n",
    "        guess = (guess + number / guess) / 2\n",
    "    return guess\n",
    "\n",
    "num = 25\n",
    "sqrt = square_root(num)\n",
    "if sqrt is not None:\n",
    "    print(\"Square root of\", num, \":\", sqrt)\n",
    "else:\n",
    "    print(\"Invalid input.\")\n"
   ]
  },
  {
   "cell_type": "code",
   "execution_count": 51,
   "id": "f69588cb",
   "metadata": {},
   "outputs": [
    {
     "name": "stdout",
     "output_type": "stream",
     "text": [
      "The string is a valid palindrome.\n"
     ]
    }
   ],
   "source": [
    "'''\n",
    "29. Write a Python program to check if a given string is a valid palindrome ignoring non-alphanumeric characters.\n",
    "'''\n",
    "\n",
    "# Program :-\n",
    "import re\n",
    "\n",
    "def is_valid_palindrome(input_string):\n",
    "    alphanumeric_string = re.sub('[\\W_]', '', input_string.lower())\n",
    "    reversed_string = alphanumeric_string[::-1]\n",
    "    return alphanumeric_string == reversed_string\n",
    "\n",
    "string = \"A man, a plan, a canal: Panama!\"\n",
    "if is_valid_palindrome(string):\n",
    "    print(\"The string is a valid palindrome.\")\n",
    "else:\n",
    "    print(\"The string is not a valid palindrome.\")\n"
   ]
  },
  {
   "cell_type": "code",
   "execution_count": 52,
   "id": "5b014280",
   "metadata": {},
   "outputs": [
    {
     "name": "stdout",
     "output_type": "stream",
     "text": [
      "Minimum element: 1\n"
     ]
    }
   ],
   "source": [
    "'''\n",
    "30. Implement a function to find the minimum element in a rotated sorted list.\n",
    "'''\n",
    "\n",
    "# Program :-\n",
    "def find_minimum(nums):\n",
    "    left = 0\n",
    "    right = len(nums) - 1\n",
    "\n",
    "    while left < right:\n",
    "        mid = left + (right - left) // 2\n",
    "\n",
    "        if nums[mid] > nums[right]:\n",
    "            left = mid + 1\n",
    "        else:\n",
    "            right = mid\n",
    "\n",
    "    return nums[left]\n",
    "\n",
    "rotated_list = [7, 8, 9, 1, 2, 3, 4, 5, 6]\n",
    "minimum = find_minimum(rotated_list)\n",
    "print(\"Minimum element:\", minimum)\n"
   ]
  },
  {
   "cell_type": "code",
   "execution_count": 57,
   "id": "9cb11e0b",
   "metadata": {},
   "outputs": [
    {
     "name": "stdout",
     "output_type": "stream",
     "text": [
      "Sum of even numbers: 30\n"
     ]
    }
   ],
   "source": [
    "'''\n",
    "31. Write a program to find the sum of all even numbers in a list.\n",
    "'''\n",
    "\n",
    "# Program :-\n",
    "def sum_even_numbers(lst):\n",
    "    return sum(num for num in lst if num % 2 == 0)\n",
    "\n",
    "numbers = [1, 2, 3, 4, 5, 6, 7, 8, 9, 10]\n",
    "even_sum = sum_even_numbers(numbers)\n",
    "print(\"Sum of even numbers:\", even_sum)\n"
   ]
  },
  {
   "cell_type": "code",
   "execution_count": 58,
   "id": "12f262c8",
   "metadata": {},
   "outputs": [
    {
     "name": "stdout",
     "output_type": "stream",
     "text": [
      "2 raised to the power of 3 : 8\n"
     ]
    }
   ],
   "source": [
    "'''\n",
    "32. Implement a function to calculate the power of a number using recursion.\n",
    "'''\n",
    "\n",
    "# Program :-\n",
    "def power(base, exponent):\n",
    "    if exponent == 0:\n",
    "        return 1\n",
    "    else:\n",
    "        return base * power(base, exponent - 1)\n",
    "\n",
    "base = 2\n",
    "exponent = 3\n",
    "result = power(base, exponent)\n",
    "print(base, \"raised to the power of\", exponent, \":\", result)\n"
   ]
  },
  {
   "cell_type": "code",
   "execution_count": 60,
   "id": "887ee59c",
   "metadata": {},
   "outputs": [
    {
     "name": "stdout",
     "output_type": "stream",
     "text": [
      "List with duplicates removed: [1, 2, 3, 4, 5, 6]\n"
     ]
    }
   ],
   "source": [
    "'''\n",
    "33. Write a Python program to remove duplicates from a list while preserving the order.\n",
    "'''\n",
    "\n",
    "# Program :-\n",
    "def remove_duplicates_preserve_order(lst):\n",
    "    seen = set()\n",
    "    unique_list = []\n",
    "    for item in lst:\n",
    "        if item not in seen:\n",
    "            seen.add(item)\n",
    "            unique_list.append(item)\n",
    "    return unique_list\n",
    "\n",
    "numbers = [1, 2, 3, 3, 4, 4, 5, 6, 6]\n",
    "unique_numbers = remove_duplicates_preserve_order(numbers)\n",
    "print(\"List with duplicates removed:\", unique_numbers)\n"
   ]
  },
  {
   "cell_type": "code",
   "execution_count": 61,
   "id": "04781957",
   "metadata": {},
   "outputs": [
    {
     "name": "stdout",
     "output_type": "stream",
     "text": [
      "Longest common prefix: fl\n"
     ]
    }
   ],
   "source": [
    "'''\n",
    "34. Implement a function to find the longest common prefix among a list of strings.\n",
    "'''\n",
    "\n",
    "# Program :-\n",
    "def longest_common_prefix(strs):\n",
    "    if not strs:\n",
    "        return \"\"\n",
    "\n",
    "    prefix = strs[0]\n",
    "    for string in strs[1:]:\n",
    "        while not string.startswith(prefix):\n",
    "            prefix = prefix[:-1]\n",
    "            if not prefix:\n",
    "                return \"\"\n",
    "    return prefix\n",
    "\n",
    "strings = [\"flower\", \"flow\", \"flight\"]\n",
    "common_prefix = longest_common_prefix(strings)\n",
    "print(\"Longest common prefix:\", common_prefix)\n"
   ]
  },
  {
   "cell_type": "code",
   "execution_count": 62,
   "id": "3f65494d",
   "metadata": {},
   "outputs": [
    {
     "name": "stdout",
     "output_type": "stream",
     "text": [
      "16 is a perfect square.\n"
     ]
    }
   ],
   "source": [
    "'''\n",
    "35. Write a program to check if a given number is a perfect square.\n",
    "'''\n",
    "\n",
    "# Program :-\n",
    "def is_perfect_square(num):\n",
    "    if num < 0:\n",
    "        return False\n",
    "    root = int(num ** 0.5)\n",
    "    return root * root == num\n",
    "\n",
    "number = 16\n",
    "if is_perfect_square(number):\n",
    "    print(number, \"is a perfect square.\")\n",
    "else:\n",
    "    print(number, \"is not a perfect square.\")\n",
    "\n"
   ]
  },
  {
   "cell_type": "code",
   "execution_count": 67,
   "id": "18d51b78",
   "metadata": {
    "scrolled": true
   },
   "outputs": [
    {
     "name": "stdout",
     "output_type": "stream",
     "text": [
      "Product of elements: 120\n"
     ]
    }
   ],
   "source": [
    "'''\n",
    "36. Implement a function to calculate the product of all elements in a list.\n",
    "'''\n",
    "\n",
    "# Program :-\n",
    "def product_of_elements(lst):\n",
    "    product = 1\n",
    "    for num in lst:\n",
    "        product *= num\n",
    "    return product\n",
    "\n",
    "numbers = [1, 2, 3, 4, 5]\n",
    "product = product_of_elements(numbers)\n",
    "print(\"Product of elements:\", product)\n"
   ]
  },
  {
   "cell_type": "code",
   "execution_count": 68,
   "id": "c515b0ec",
   "metadata": {},
   "outputs": [
    {
     "name": "stdout",
     "output_type": "stream",
     "text": [
      "Reversed sentence: you? are how Hello,\n"
     ]
    }
   ],
   "source": [
    "'''\n",
    "37. Write a Python program to reverse the order of words in a sentence while preserving the word order.\n",
    "'''\n",
    "\n",
    "# Program :-\n",
    "def reverse_words_order(sentence):\n",
    "    words = sentence.split()\n",
    "    reversed_sentence = ' '.join(words[::-1])\n",
    "    return reversed_sentence\n",
    "\n",
    "sentence = \"Hello, how are you?\"\n",
    "reversed_sentence = reverse_words_order(sentence)\n",
    "print(\"Reversed sentence:\", reversed_sentence)\n"
   ]
  },
  {
   "cell_type": "code",
   "execution_count": 69,
   "id": "5a48b598",
   "metadata": {},
   "outputs": [
    {
     "name": "stdout",
     "output_type": "stream",
     "text": [
      "Missing number: 4\n"
     ]
    }
   ],
   "source": [
    "'''\n",
    "38. Implement a function to find the missing number in a given list of consecutive numbers.\n",
    "'''\n",
    "\n",
    "# Program :-\n",
    "def find_missing_number(lst):\n",
    "    n = len(lst) + 1\n",
    "    total_sum = (n * (n + 1)) // 2\n",
    "    actual_sum = sum(lst)\n",
    "    missing_number = total_sum - actual_sum\n",
    "    return missing_number\n",
    "\n",
    "numbers = [1, 2, 3, 5, 6, 7, 8, 9]\n",
    "missing_num = find_missing_number(numbers)\n",
    "print(\"Missing number:\", missing_num)\n"
   ]
  },
  {
   "cell_type": "code",
   "execution_count": 70,
   "id": "4c4699e2",
   "metadata": {},
   "outputs": [
    {
     "name": "stdout",
     "output_type": "stream",
     "text": [
      "Sum of digits: 15\n"
     ]
    }
   ],
   "source": [
    "'''\n",
    "39. Write a program to find the sum of digits of a given number.\n",
    "'''\n",
    "\n",
    "# Program :-\n",
    "def sum_of_digits(number):\n",
    "    sum_digits = sum(int(digit) for digit in str(number) if digit.isdigit())\n",
    "    return sum_digits\n",
    "\n",
    "num = 12345\n",
    "digit_sum = sum_of_digits(num)\n",
    "print(\"Sum of digits:\", digit_sum)\n"
   ]
  },
  {
   "cell_type": "code",
   "execution_count": 71,
   "id": "abc36d1a",
   "metadata": {},
   "outputs": [
    {
     "name": "stdout",
     "output_type": "stream",
     "text": [
      "The string is a valid palindrome.\n"
     ]
    }
   ],
   "source": [
    "'''\n",
    "40. Implement a function to check if a given string is a valid palindrome considering case sensitivity.\n",
    "'''\n",
    "\n",
    "# Program :-\n",
    "def is_valid_palindrome_case_sensitive(input_string):\n",
    "    reversed_string = input_string[::-1]\n",
    "    return input_string == reversed_string\n",
    "\n",
    "string = \"radar\"\n",
    "if is_valid_palindrome_case_sensitive(string):\n",
    "    print(\"The string is a valid palindrome.\")\n",
    "else:\n",
    "    print(\"The string is not a valid palindrome.\")\n"
   ]
  },
  {
   "cell_type": "code",
   "execution_count": 77,
   "id": "c80075a4",
   "metadata": {},
   "outputs": [
    {
     "name": "stdout",
     "output_type": "stream",
     "text": [
      "Smallest missing positive integer: 2\n"
     ]
    }
   ],
   "source": [
    "'''\n",
    "41. Write a Python program to find the smallest missing positive integer in a list.\n",
    "'''\n",
    "\n",
    "# Program :-\n",
    "def find_smallest_missing_positive(nums):\n",
    "    n = len(nums)\n",
    "    for i in range(n):\n",
    "        while 1 <= nums[i] <= n and nums[nums[i] - 1] != nums[i]:\n",
    "            nums[nums[i] - 1], nums[i] = nums[i], nums[nums[i] - 1]\n",
    "\n",
    "    for i in range(n):\n",
    "        if nums[i] != i + 1:\n",
    "            return i + 1\n",
    "\n",
    "    return n + 1\n",
    "\n",
    "numbers = [3, 4, -1, 1]\n",
    "smallest_missing = find_smallest_missing_positive(numbers)\n",
    "print(\"Smallest missing positive integer:\", smallest_missing)\n"
   ]
  },
  {
   "cell_type": "code",
   "execution_count": 78,
   "id": "9dd2c2b9",
   "metadata": {},
   "outputs": [
    {
     "name": "stdout",
     "output_type": "stream",
     "text": [
      "Longest palindrome substring: bab\n"
     ]
    }
   ],
   "source": [
    "'''\n",
    "42. Implement a function to find the longest palindrome substring in a given string.\n",
    "'''\n",
    "\n",
    "# Program :-\n",
    "def longest_palindrome_substring(s):\n",
    "    longest = ''\n",
    "    for i in range(len(s)):\n",
    "        # Check for odd-length palindromes\n",
    "        l, r = i, i\n",
    "        while l >= 0 and r < len(s) and s[l] == s[r]:\n",
    "            l -= 1\n",
    "            r += 1\n",
    "        longest = max(longest, s[l+1:r], key=len)\n",
    "\n",
    "        # Check for even-length palindromes\n",
    "        l, r = i, i + 1\n",
    "        while l >= 0 and r < len(s) and s[l] == s[r]:\n",
    "            l -= 1\n",
    "            r += 1\n",
    "        longest = max(longest, s[l+1:r], key=len)\n",
    "\n",
    "    return longest\n",
    "\n",
    "string = \"babad\"\n",
    "longest_palindrome = longest_palindrome_substring(string)\n",
    "print(\"Longest palindrome substring:\", longest_palindrome)\n",
    "\n"
   ]
  },
  {
   "cell_type": "code",
   "execution_count": 79,
   "id": "69bd49d4",
   "metadata": {},
   "outputs": [
    {
     "name": "stdout",
     "output_type": "stream",
     "text": [
      "Occurrences of 2 : 4\n"
     ]
    }
   ],
   "source": [
    "'''\n",
    "43. Write a program to find the number of occurrences of a given element in a list.\n",
    "'''\n",
    "\n",
    "# Program :-\n",
    "\n",
    "def count_occurrences(lst, target):\n",
    "    count = 0\n",
    "    for element in lst:\n",
    "        if element == target:\n",
    "            count += 1\n",
    "    return count\n",
    "\n",
    "numbers = [1, 2, 3, 4, 2, 2, 5, 2]\n",
    "target = 2\n",
    "occurrences = count_occurrences(numbers, target)\n",
    "print(\"Occurrences of\", target, \":\", occurrences)\n"
   ]
  },
  {
   "cell_type": "code",
   "execution_count": 80,
   "id": "c59352aa",
   "metadata": {},
   "outputs": [
    {
     "name": "stdout",
     "output_type": "stream",
     "text": [
      "28 is a perfect number.\n"
     ]
    }
   ],
   "source": [
    "'''\n",
    "44. Implement a function to check if a given number is a perfect number.\n",
    "'''\n",
    "\n",
    "# Program :-\n",
    "\n",
    "def is_perfect_number(number):\n",
    "    if number <= 0:\n",
    "        return False\n",
    "    factors = [i for i in range(1, number) if number % i == 0]\n",
    "    return sum(factors) == number\n",
    "\n",
    "num = 28\n",
    "if is_perfect_number(num):\n",
    "    print(num, \"is a perfect number.\")\n",
    "else:\n",
    "    print(num, \"is not a perfect number.\")\n"
   ]
  },
  {
   "cell_type": "code",
   "execution_count": 81,
   "id": "5313a797",
   "metadata": {},
   "outputs": [
    {
     "name": "stdout",
     "output_type": "stream",
     "text": [
      "String without duplicates: Helo, Wrd!\n"
     ]
    }
   ],
   "source": [
    "'''\n",
    "45. Write a Python program to remove all duplicates from a string.\n",
    "'''\n",
    "\n",
    "# Program :-\n",
    "def remove_duplicates_string(input_string):\n",
    "    unique_chars = []\n",
    "    for char in input_string:\n",
    "        if char not in unique_chars:\n",
    "            unique_chars.append(char)\n",
    "    return ''.join(unique_chars)\n",
    "\n",
    "string = \"Hello, World!\"\n",
    "without_duplicates = remove_duplicates_string(string)\n",
    "print(\"String without duplicates:\", without_duplicates)\n"
   ]
  },
  {
   "cell_type": "code",
   "execution_count": 84,
   "id": "914e5b92",
   "metadata": {},
   "outputs": [
    {
     "name": "stdout",
     "output_type": "stream",
     "text": [
      "First missing positive: 6\n"
     ]
    }
   ],
   "source": [
    "'''\n",
    "46. Implement a function to find the first missing positive\n",
    "'''\n",
    "\n",
    "# Program :-\n",
    "def first_missing_positive(nums):\n",
    "    n = len(nums)\n",
    "    for i in range(n):\n",
    "        while 1 <= nums[i] <= n and nums[nums[i] - 1] != nums[i]:\n",
    "            nums[nums[i] - 1], nums[i] = nums[i], nums[nums[i] - 1]\n",
    "\n",
    "    for i in range(n):\n",
    "        if nums[i] != i + 1:\n",
    "                return n + 1\n",
    "\n",
    "numbers = [3, 4, -1, 1, 5]\n",
    "first_missing = first_missing_positive(numbers)\n",
    "print(\"First missing positive:\", first_missing)\n"
   ]
  }
 ],
 "metadata": {
  "kernelspec": {
   "display_name": "Python 3 (ipykernel)",
   "language": "python",
   "name": "python3"
  },
  "language_info": {
   "codemirror_mode": {
    "name": "ipython",
    "version": 3
   },
   "file_extension": ".py",
   "mimetype": "text/x-python",
   "name": "python",
   "nbconvert_exporter": "python",
   "pygments_lexer": "ipython3",
   "version": "3.10.9"
  }
 },
 "nbformat": 4,
 "nbformat_minor": 5
}
