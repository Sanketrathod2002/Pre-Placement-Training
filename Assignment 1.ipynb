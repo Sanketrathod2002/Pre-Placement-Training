{
 "cells": [
  {
   "cell_type": "code",
   "execution_count": 3,
   "id": "5a1bee32-d2be-4bf1-8034-5d27bd848c23",
   "metadata": {},
   "outputs": [
    {
     "name": "stdout",
     "output_type": "stream",
     "text": [
      "[0, 1]\n"
     ]
    }
   ],
   "source": [
    "'''\n",
    "Q.1 Given an array of integers nums and an integer target, return indices of the two numbers such that they add up to target.\n",
    "\n",
    "You may assume that each input would have exactly one solution, and you may not use the same element twice.\n",
    "\n",
    "You can return the answer in any order.\n",
    "\n",
    "Example:\n",
    "Input: nums = [2,7,11,15], target = 9\n",
    "Output0 [0,1]\n",
    "\n",
    "Explanation: Because nums[0] + nums[1] == 9, we return [0, 1]\n",
    "'''\n",
    "\n",
    "\n",
    "# Program :-\n",
    "nums = [2, 7, 11, 15]\n",
    "target = 9\n",
    "\n",
    "num_map = {} \n",
    "for i, num in enumerate(nums):\n",
    "    complement = target - num\n",
    "    if complement in num_map:\n",
    "        # Return the indices of the two numbers\n",
    "        indices = [num_map[complement], i]\n",
    "        print(indices)  # Output: [0, 1]\n",
    "        break\n",
    "    else:\n",
    "        # Add the current element and its index \n",
    "        num_map[num] = i\n",
    "\n"
   ]
  },
  {
   "cell_type": "code",
   "execution_count": 4,
   "id": "71b168d0-5b4f-4da1-b153-47c419753dfd",
   "metadata": {},
   "outputs": [
    {
     "name": "stdout",
     "output_type": "stream",
     "text": [
      "2\n",
      "[2, 2]\n"
     ]
    }
   ],
   "source": [
    "'''\n",
    "Q2. Given an integer array nums and an integer val, remove all occurrences of val in nums in-place. The order of the elements may be changed. Then return the number of elements in nums which are not equal to val.\n",
    "\n",
    "Consider the number of elements in nums which are not equal to val be k, to get accepted, you need to do the following things:\n",
    "\n",
    "- Change the array nums such that the first k elements of nums contain the elements which are not equal to val. The remaining elements of nums are not important as well as the size of nums.\n",
    "- Return k.\n",
    "\n",
    "Example :\n",
    "Input: nums = [3,2,2,3], val = 3\n",
    "Output: 2, nums = [2,2,_*,_*]\n",
    "\n",
    "**Explanation:** Your function should return k = 2, with the first two elements of nums being 2. It does not matter what you leave beyond the returned k (hence they are underscores)\n",
    "\n",
    "'''\n",
    "\n",
    "# Program :-\n",
    "nums = [3, 2, 2, 3]\n",
    "val = 3\n",
    "\n",
    "i = 0  \n",
    "j = 0  \n",
    "\n",
    "while i < len(nums):\n",
    "    if nums[i] != val:\n",
    "        nums[j] = nums[i]\n",
    "        j += 1\n",
    "    i += 1\n",
    "\n",
    "count = j  # Count of elements not equal to val\n",
    "result = nums[:count]  # Updated array with non-val elements\n",
    "\n",
    "print(count)  # Output: 2\n",
    "print(result)  # Output: [2, 2]\n",
    "\n"
   ]
  },
  {
   "cell_type": "code",
   "execution_count": 5,
   "id": "72af3426-beca-4891-9f31-e9b663b88e15",
   "metadata": {},
   "outputs": [
    {
     "name": "stdout",
     "output_type": "stream",
     "text": [
      "2\n"
     ]
    }
   ],
   "source": [
    "'''\n",
    "Q3. Given a sorted array of distinct integers and a target value, return the index if the target is found. If not, return the index where it would be if it were inserted in order.\n",
    "\n",
    "You must write an algorithm with O(log n) runtime complexity.\n",
    "\n",
    "Example 1:\n",
    "Input: nums = [1,3,5,6], target = 5\n",
    "\n",
    "Output: 2\n",
    "'''\n",
    "\n",
    "# Program :-\n",
    "nums = [1, 3, 5, 6]\n",
    "target = 5\n",
    "\n",
    "left = 0\n",
    "right = len(nums) - 1\n",
    "\n",
    "while left <= right:\n",
    "    mid = (left + right) // 2\n",
    "    if nums[mid] == target:\n",
    "        print(mid)  # Output: 2\n",
    "        break\n",
    "    elif nums[mid] < target:\n",
    "        left = mid + 1\n",
    "    else:\n",
    "        right = mid - 1\n",
    "else:\n",
    "    print(left)  # Output: 2\n",
    "\n"
   ]
  },
  {
   "cell_type": "code",
   "execution_count": 6,
   "id": "c81898ba-1dd9-4419-b6c2-a1d8cfa29603",
   "metadata": {},
   "outputs": [
    {
     "name": "stdout",
     "output_type": "stream",
     "text": [
      "[1, 2, 4]\n"
     ]
    }
   ],
   "source": [
    "'''\n",
    "Q4. You are given a large integer represented as an integer array digits, where each digits[i] is the ith digit of the integer. The digits are ordered from most significant to least significant in left-to-right order. The large integer does not contain any leading 0's.\n",
    "\n",
    "Increment the large integer by one and return the resulting array of digits.\n",
    "\n",
    "**Example 1:**\n",
    "Input: digits = [1,2,3]\n",
    "Output: [1,2,4]\n",
    "\n",
    "Explanation: The array represents the integer 123.\n",
    "\n",
    "Incrementing by one gives 123 + 1 = 124.\n",
    "Thus, the result should be [1,2,4].\n",
    "'''\n",
    "\n",
    "# Program :-\n",
    "digits = [1, 2, 3]\n",
    "\n",
    "n = len(digits)\n",
    "\n",
    "for i in range(n - 1, -1, -1):\n",
    "    digits[i] += 1\n",
    "    if digits[i] < 10:\n",
    "        break\n",
    "    digits[i] = 0\n",
    "\n",
    "if digits[0] == 0:\n",
    "    digits.insert(0, 1)\n",
    "\n",
    "result = digits\n",
    "print(result)  # Output: [1, 2, 4]\n"
   ]
  },
  {
   "cell_type": "code",
   "execution_count": 7,
   "id": "6201a5a2-7768-4f31-ad38-c46026f7eb0e",
   "metadata": {},
   "outputs": [
    {
     "name": "stdout",
     "output_type": "stream",
     "text": [
      "[1, 2, 2, 3, 5, 6]\n"
     ]
    }
   ],
   "source": [
    "'''\n",
    "Q5. You are given two integer arrays nums1 and nums2, sorted in non-decreasing order, and two integers m and n, representing the number of elements in nums1 and nums2 respectively.\n",
    "\n",
    "Merge nums1 and nums2 into a single array sorted in non-decreasing order.\n",
    "\n",
    "The final sorted array should not be returned by the function, but instead be stored inside the array nums1. To accommodate this, nums1 has a length of m + n, where the first m elements denote the elements that should be merged, and the last n elements are set to 0 and should be ignored. nums2 has a length of n.\n",
    "\n",
    "Example 1:\n",
    "Input: nums1 = [1,2,3,0,0,0], m = 3, nums2 = [2,5,6], n = 3\n",
    "Output: [1,2,2,3,5,6]\n",
    "\n",
    "**Explanation:** The arrays we are merging are [1,2,3] and [2,5,6].\n",
    "The result of the merge is [1,2,2,3,5,6] with the underlined elements coming from nums1.\n",
    "'''\n",
    "\n",
    "# Program :-\n",
    "nums1 = [1, 2, 3, 0, 0, 0]\n",
    "m = 3\n",
    "nums2 = [2, 5, 6]\n",
    "n = 3\n",
    "\n",
    "# Start merging \n",
    "i = m - 1\n",
    "j = n - 1\n",
    "k = m + n - 1\n",
    "\n",
    "while i >= 0 and j >= 0:\n",
    "    if nums1[i] > nums2[j]:\n",
    "        nums1[k] = nums1[i]\n",
    "        i -= 1\n",
    "    else:\n",
    "        nums1[k] = nums2[j]\n",
    "        j -= 1\n",
    "    k -= 1\n",
    "\n",
    "# Copy any remaining elements from nums2\n",
    "while j >= 0:\n",
    "    nums1[k] = nums2[j]\n",
    "    j -= 1\n",
    "    k -= 1\n",
    "\n",
    "# Output the merged array\n",
    "print(nums1)  # Output: [1, 2, 2, 3, 5, 6]\n",
    "\n"
   ]
  },
  {
   "cell_type": "code",
   "execution_count": 8,
   "id": "ec446ba6-d49b-4e3e-bfd6-881930ee26b9",
   "metadata": {},
   "outputs": [
    {
     "name": "stdout",
     "output_type": "stream",
     "text": [
      "True\n"
     ]
    }
   ],
   "source": [
    "'''\n",
    "Q6. Given an integer array nums, return true if any value appears at least twice in the array, and return false if every element is distinct.\n",
    "\n",
    "Example 1:\n",
    "Input: nums = [1,2,3,1]\n",
    "\n",
    "Output: true\n",
    "\n",
    "'''\n",
    "\n",
    "# Program :-\n",
    "nums = [1, 2, 3, 1]\n",
    "\n",
    "# Create an empty set to store unique values\n",
    "unique_set = set()\n",
    "\n",
    "for num in nums:\n",
    "    if num in unique_set:\n",
    "        # Found a duplicate value\n",
    "        print(True)  # Output: True\n",
    "        break\n",
    "    unique_set.add(num)\n",
    "else:\n",
    "    # No duplicates found\n",
    "    print(False)  # Output: False\n",
    "\n"
   ]
  },
  {
   "cell_type": "code",
   "execution_count": 9,
   "id": "11a3d6a7-829a-461d-ad07-42c0a801d487",
   "metadata": {},
   "outputs": [
    {
     "name": "stdout",
     "output_type": "stream",
     "text": [
      "[1, 3, 12, 0, 0]\n"
     ]
    }
   ],
   "source": [
    "'''\n",
    "💡 **Q7.** Given an integer array nums, move all 0's to the end of it while maintaining the relative order of the nonzero elements.\n",
    "\n",
    "Note that you must do this in-place without making a copy of the array.\n",
    "\n",
    "**Example 1:**\n",
    "Input: nums = [0,1,0,3,12]\n",
    "Output: [1,3,12,0,0]\n",
    "'''\n",
    "\n",
    "# Program :-\n",
    "nums = [0, 1, 0, 3, 12]\n",
    "\n",
    "i = 0\n",
    "\n",
    "for j in range(len(nums)):\n",
    "    if nums[j] != 0:\n",
    "        # Swap non-zero element \n",
    "        nums[i], nums[j] = nums[j], nums[i]\n",
    "        i += 1\n",
    "\n",
    "# Fill the remaining positions with zeros\n",
    "while i < len(nums):\n",
    "    nums[i] = 0\n",
    "    i += 1\n",
    "\n",
    "# Output the modified array\n",
    "print(nums)  # Output: [1, 3, 12, 0, 0]\n",
    "\n",
    "\n"
   ]
  },
  {
   "cell_type": "code",
   "execution_count": 10,
   "id": "c8d16f83-e5a9-4aa4-a6ee-34536092203e",
   "metadata": {},
   "outputs": [
    {
     "name": "stdout",
     "output_type": "stream",
     "text": [
      "[2, 3]\n"
     ]
    }
   ],
   "source": [
    "'''\n",
    "💡 **Q8.** You have a set of integers s, which originally contains all the numbers from 1 to n. Unfortunately, due to some error, one of the numbers in s got duplicated to another number in the set, which results in repetition of one number and loss of another number.\n",
    "\n",
    "You are given an integer array nums representing the data status of this set after the error.\n",
    "\n",
    "Find the number that occurs twice and the number that is missing and return them in the form of an array.\n",
    "\n",
    "**Example 1:**\n",
    "Input: nums = [1,2,2,4]\n",
    "Output: [2,3]\n",
    "\n",
    "'''\n",
    "\n",
    "# Program :-\n",
    "nums = [1, 2, 2, 4]\n",
    "\n",
    "n = len(nums)\n",
    "\n",
    "unique_set = set()\n",
    "\n",
    "# Variables to store the number that occurs twice and the missing number\n",
    "duplicate_num = -1\n",
    "missing_num = -1\n",
    "\n",
    "# Iterate through nums\n",
    "for num in nums:\n",
    "    if num in unique_set:\n",
    "        duplicate_num = num\n",
    "    unique_set.add(num)\n",
    "\n",
    "# Calculate the sum of all numbers \n",
    "total_sum = sum(range(1, n + 1))\n",
    "\n",
    "# Calculate the sum of nums\n",
    "nums_sum = sum(nums)\n",
    "\n",
    "# Calculate the missing number\n",
    "missing_num = total_sum - nums_sum + duplicate_num\n",
    "\n",
    "# Output the result as an array\n",
    "result = [duplicate_num, missing_num]\n",
    "print(result)  # Output: [2, 3]"
   ]
  }
 ],
 "metadata": {
  "kernelspec": {
   "display_name": "Python 3 (ipykernel)",
   "language": "python",
   "name": "python3"
  },
  "language_info": {
   "codemirror_mode": {
    "name": "ipython",
    "version": 3
   },
   "file_extension": ".py",
   "mimetype": "text/x-python",
   "name": "python",
   "nbconvert_exporter": "python",
   "pygments_lexer": "ipython3",
   "version": "3.10.8"
  }
 },
 "nbformat": 4,
 "nbformat_minor": 5
}
