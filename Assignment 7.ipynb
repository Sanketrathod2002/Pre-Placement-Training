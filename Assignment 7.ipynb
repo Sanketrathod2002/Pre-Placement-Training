{
 "cells": [
  {
   "cell_type": "code",
   "execution_count": 1,
   "id": "e97b3cbd",
   "metadata": {},
   "outputs": [
    {
     "name": "stdout",
     "output_type": "stream",
     "text": [
      "True\n"
     ]
    }
   ],
   "source": [
    "'''\n",
    "Q.1 Given two strings s and t, determine if they are isomorphic.\n",
    "\n",
    "Two strings s and t are isomorphic if the characters in s can be replaced to get t.\n",
    "\n",
    "All occurrences of a character must be replaced with another character while preserving the order of characters. No two characters may map to the same character, but a character may map to itself.\n",
    "\n",
    "Example 1:\n",
    "\n",
    "Input: s = \"egg\", t = \"add\"\n",
    "\n",
    "Output: true\n",
    "'''\n",
    "\n",
    "# Program :-\n",
    "def isIsomorphic(s, t):\n",
    "    if len(s) != len(t):\n",
    "        return False\n",
    "\n",
    "    char_map = {}\n",
    "    mapped_chars = set()\n",
    "\n",
    "    for i in range(len(s)):\n",
    "        char_s = s[i]\n",
    "        char_t = t[i]\n",
    "\n",
    "        if char_s in char_map:\n",
    "            if char_map[char_s] != char_t:\n",
    "                return False\n",
    "        else:\n",
    "            if char_t in mapped_chars:\n",
    "                return False\n",
    "            char_map[char_s] = char_t\n",
    "            mapped_chars.add(char_t)\n",
    "\n",
    "    return True\n",
    "s = \"egg\"\n",
    "t = \"add\"\n",
    "print(isIsomorphic(s, t))  # Output: True\n"
   ]
  },
  {
   "cell_type": "code",
   "execution_count": 2,
   "id": "2696d02d",
   "metadata": {},
   "outputs": [
    {
     "name": "stdout",
     "output_type": "stream",
     "text": [
      "True\n"
     ]
    }
   ],
   "source": [
    "'''\n",
    "Q.2 Given a string num which represents an integer, return true if num *is a strobogrammatic number.\n",
    "\n",
    "A strobogrammatic number is a number that looks the same when rotated 180 degrees (looked at upside down).\n",
    "\n",
    "Example 1:\n",
    "\n",
    "Input: num = \"69\"\n",
    "\n",
    "Output:\n",
    "\n",
    "true\n",
    "'''\n",
    "\n",
    "# Program :-\n",
    "def isStrobogrammatic(num):\n",
    "    digit_map = {'0': '0', '1': '1', '6': '9', '8': '8', '9': '6'}\n",
    "\n",
    "    left, right = 0, len(num) - 1\n",
    "    while left <= right:\n",
    "        if num[left] not in digit_map or num[right] != digit_map[num[left]]:\n",
    "            return False\n",
    "        left += 1\n",
    "        right -= 1\n",
    "\n",
    "    return True\n",
    "num = \"69\"\n",
    "print(isStrobogrammatic(num))  # Output: True\n"
   ]
  },
  {
   "cell_type": "code",
   "execution_count": 3,
   "id": "69091114",
   "metadata": {},
   "outputs": [
    {
     "name": "stdout",
     "output_type": "stream",
     "text": [
      "134\n"
     ]
    }
   ],
   "source": [
    "'''\n",
    "Q.3 Given two non-negative integers, num1 and num2 represented as string, return *the sum of* num1 *and* num2 *as a string.\n",
    "\n",
    "You must solve the problem without using any built-in library for handling large integers (such as BigInteger). You must also not convert the inputs to integers directly.\n",
    "\n",
    "Example 1:\n",
    "\n",
    "Input: num1 = \"11\", num2 = \"123\"\n",
    "\n",
    "Output:\n",
    "\n",
    "\"134\"\n",
    "'''\n",
    "\n",
    "# Program :-\n",
    "def addStrings(num1, num2):\n",
    "    carry = 0\n",
    "    i = len(num1) - 1\n",
    "    j = len(num2) - 1\n",
    "    result = []\n",
    "\n",
    "    while i >= 0 or j >= 0 or carry > 0:\n",
    "        digit_sum = carry\n",
    "        if i >= 0:\n",
    "            digit_sum += int(num1[i])\n",
    "            i -= 1\n",
    "        if j >= 0:\n",
    "            digit_sum += int(num2[j])\n",
    "            j -= 1\n",
    "\n",
    "        carry = digit_sum // 10\n",
    "        digit = digit_sum % 10\n",
    "        result.append(str(digit))\n",
    "\n",
    "    return ''.join(result[::-1])\n",
    "num1 = \"11\"\n",
    "num2 = \"123\"\n",
    "print(addStrings(num1, num2))  # Output: \"134\"\n"
   ]
  },
  {
   "cell_type": "code",
   "execution_count": 4,
   "id": "a047f643",
   "metadata": {},
   "outputs": [
    {
     "name": "stdout",
     "output_type": "stream",
     "text": [
      "s'teL ekat edoCteeL tsetnoc\n"
     ]
    }
   ],
   "source": [
    "'''\n",
    "Q.4 Given a string s, reverse the order of characters in each word within a sentence while still preserving whitespace and initial word order.\n",
    "\n",
    "Example 1:\n",
    "\n",
    "Input: s = \"Let's take LeetCode contest\"\n",
    "\n",
    "Output: \"s'teL ekat edoCteeL tsetnoc\"\n",
    "\n",
    "'''\n",
    "\n",
    "# Program :-\n",
    "def reverseWords(s):\n",
    "    words = s.split()\n",
    "    reversed_words = [word[::-1] for word in words]\n",
    "    return ' '.join(reversed_words)\n",
    "s = \"Let's take LeetCode contest\"\n",
    "print(reverseWords(s))  # Output: \"s'teL ekat edoCteeL tsetnoc\"\n"
   ]
  },
  {
   "cell_type": "code",
   "execution_count": 7,
   "id": "43fc40a2",
   "metadata": {},
   "outputs": [
    {
     "name": "stdout",
     "output_type": "stream",
     "text": [
      "bacdfeg\n"
     ]
    }
   ],
   "source": [
    "'''\n",
    "Q.5 Given a string s and an integer k, reverse the first k characters for every 2k characters counting from the start of the string.\n",
    "\n",
    "If there are fewer than k characters left, reverse all of them. If there are less than 2k but greater than or equal to k characters, then reverse the first k characters and leave the other as original.\n",
    "\n",
    "Example 1:\n",
    "\n",
    "Input: s = \"abcdefg\", k = 2\n",
    "\n",
    "Output:\n",
    "\n",
    "\"bacdfeg\"\n",
    "'''\n",
    "\n",
    "# Program :-\n",
    "def reverseStr(s, k):\n",
    "    result = []\n",
    "    n = len(s)\n",
    "\n",
    "    for i in range(0, n, 2*k):\n",
    "        chunk = s[i:i+k]\n",
    "        reversed_chunk = chunk[::-1]\n",
    "        remaining = s[i+k:i+2*k]\n",
    "        result.append(reversed_chunk + remaining)\n",
    "\n",
    "    return ''.join(result)\n",
    "s = \"abcdefg\"\n",
    "k = 2\n",
    "output = reverseStr(s, k)\n",
    "print(output)  # Output: \"bacdfeg\"\n",
    "\n"
   ]
  },
  {
   "cell_type": "code",
   "execution_count": 8,
   "id": "f6b3a92f",
   "metadata": {},
   "outputs": [
    {
     "name": "stdout",
     "output_type": "stream",
     "text": [
      "True\n"
     ]
    }
   ],
   "source": [
    "'''\n",
    "Q.6 Given two strings s and goal, return true if and only if s can become goal after some number of shifts on s.\n",
    "\n",
    "A shift on s consists of moving the leftmost character of s to the rightmost position.\n",
    "\n",
    "- For example, if s = \"abcde\", then it will be \"bcdea\" after one shift.\n",
    "\n",
    "Example 1:\n",
    "\n",
    "Input: s = \"abcde\", goal = \"cdeab\"\n",
    "\n",
    "Output:\n",
    "\n",
    "true\n",
    "'''\n",
    "\n",
    "# Program :-\n",
    "def rotateString(s, goal):\n",
    "    if len(s) != len(goal):\n",
    "        return False\n",
    "\n",
    "    concatenated = s + s\n",
    "    return goal in concatenated\n",
    "s = \"abcde\"\n",
    "goal = \"cdeab\"\n",
    "output = rotateString(s, goal)\n",
    "print(output)  # Output: True\n"
   ]
  },
  {
   "cell_type": "code",
   "execution_count": 9,
   "id": "734f5f2e",
   "metadata": {},
   "outputs": [
    {
     "name": "stdout",
     "output_type": "stream",
     "text": [
      "True\n"
     ]
    }
   ],
   "source": [
    "'''\n",
    "Q.7 Given two strings s and t, return true *if they are equal when both are typed into empty text editors*. '#' means a backspace character.\n",
    "\n",
    "Note that after backspacing an empty text, the text will continue empty.\n",
    "\n",
    "Example 1:\n",
    "\n",
    "Input: s = \"ab#c\", t = \"ad#c\"\n",
    "\n",
    "Output: true\n",
    "\n",
    "Explanation:\n",
    "\n",
    "Both s and t become \"ac\".\n",
    "'''\n",
    "\n",
    "# Program :-\n",
    "def backspaceCompare(s, t):\n",
    "    def process_string(string):\n",
    "        stack = []\n",
    "        for char in string:\n",
    "            if char != '#':\n",
    "                stack.append(char)\n",
    "            elif stack:\n",
    "                stack.pop()\n",
    "        return ''.join(stack)\n",
    "\n",
    "    return process_string(s) == process_string(t)\n",
    "s = \"ab#c\"\n",
    "t = \"ad#c\"\n",
    "output = backspaceCompare(s, t)\n",
    "print(output)  # Output: True\n"
   ]
  },
  {
   "cell_type": "code",
   "execution_count": 10,
   "id": "28ebba6c",
   "metadata": {},
   "outputs": [
    {
     "name": "stdout",
     "output_type": "stream",
     "text": [
      "True\n"
     ]
    }
   ],
   "source": [
    "'''\n",
    "You are given an array coordinates, coordinates[i] = [x, y], where [x, y] represents the coordinate of a point. Check if these points make a straight line in the XY plane.\n",
    "\n",
    "Example 1:\n",
    "\n",
    "Input: coordinates = [[1,2],[2,3],[3,4],[4,5],[5,6],[6,7]]\n",
    "\n",
    "Output: true\n",
    "'''\n",
    "\n",
    "# Program :-\n",
    "def checkStraightLine(coordinates):\n",
    "    if len(coordinates) <= 2:\n",
    "        return True\n",
    "\n",
    "    x0, y0 = coordinates[0]\n",
    "    x1, y1 = coordinates[1]\n",
    "    for i in range(2, len(coordinates)):\n",
    "        x, y = coordinates[i]\n",
    "        if (x1 - x0) * (y - y0) != (x - x0) * (y1 - y0):\n",
    "            return False\n",
    "\n",
    "    return True\n",
    "coordinates = [[1,2],[2,3],[3,4],[4,5],[5,6],[6,7]]\n",
    "output = checkStraightLine(coordinates)\n",
    "print(output)  # Output: True\n"
   ]
  }
 ],
 "metadata": {
  "kernelspec": {
   "display_name": "Python 3 (ipykernel)",
   "language": "python",
   "name": "python3"
  },
  "language_info": {
   "codemirror_mode": {
    "name": "ipython",
    "version": 3
   },
   "file_extension": ".py",
   "mimetype": "text/x-python",
   "name": "python",
   "nbconvert_exporter": "python",
   "pygments_lexer": "ipython3",
   "version": "3.10.9"
  }
 },
 "nbformat": 4,
 "nbformat_minor": 5
}
